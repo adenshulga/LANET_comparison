{
 "cells": [
  {
   "cell_type": "code",
   "execution_count": 1,
   "metadata": {},
   "outputs": [],
   "source": [
    "import pickle\n",
    "import os\n",
    "import numpy as np"
   ]
  },
  {
   "cell_type": "code",
   "execution_count": 9,
   "metadata": {},
   "outputs": [],
   "source": [
    "def unpickle_file(path, type_of_split, data, prefix, encoding):\n",
    "    tmp_path = os.path.join(path, prefix + type_of_split + '.pkl')\n",
    "    with open(tmp_path, 'rb') as file:\n",
    "        data[type_of_split] = pickle.load(file, encoding=encoding)[type_of_split]\n",
    "    return data\n",
    "\n",
    "def load_pkl(path, type_of_split, encoding='ASCII'):\n",
    "    tmp_path = os.path.join(path, type_of_split + '.pkl')\n",
    "    with open(tmp_path, 'rb') as file:\n",
    "        data = pickle.load(file, encoding=encoding)\n",
    "    return data\n",
    "\n",
    "def save_pkl(data, path, type_of_split, encoding='ASCII'):\n",
    "    tmp_path = os.path.join(path, type_of_split + '.pkl')\n",
    "    os.makedirs(path, exist_ok=True)\n",
    "    with open(tmp_path, 'wb') as file:\n",
    "        pickle.dump(data, file)\n",
    "\n",
    "def preprocess_split(data: list[list[dict]]) -> list[list[dict]]:\n",
    "    '''delete empty baskets, delete users whose history is <=1'''\n",
    "    data_processed = []\n",
    "    for user in data:\n",
    "        if len(user) <= 1:\n",
    "            continue\n",
    "        user_history = []\n",
    "        for basket in user:\n",
    "            if basket['type_event'].sum() == 0.0:\n",
    "                continue\n",
    "            user_history.append(basket)\n",
    "        if len(user_history) > 1:    \n",
    "            data_processed.append(user_history)\n",
    "    \n",
    "    return data_processed"
   ]
  },
  {
   "cell_type": "code",
   "execution_count": 6,
   "metadata": {},
   "outputs": [],
   "source": [
    "name = 'instacart'\n",
    "path = f'tcmbn_data/{name}/split_1'\n",
    "types_of_split = ['train', 'dev', 'test']\n",
    "new_path = f'tcmbn_data/{name}_preprocessed/split_1'"
   ]
  },
  {
   "cell_type": "code",
   "execution_count": 7,
   "metadata": {},
   "outputs": [],
   "source": [
    "for split in types_of_split:\n",
    "    data = load_pkl(path, split)\n",
    "    data[split] = preprocess_split(data[split])\n",
    "    save_pkl(data, new_path, split)\n",
    "    "
   ]
  },
  {
   "cell_type": "code",
   "execution_count": 43,
   "metadata": {},
   "outputs": [
    {
     "data": {
      "text/plain": [
       "0"
      ]
     },
     "execution_count": 43,
     "metadata": {},
     "output_type": "execute_result"
    }
   ],
   "source": [
    "np.array([]).size"
   ]
  },
  {
   "cell_type": "code",
   "execution_count": 2,
   "metadata": {},
   "outputs": [],
   "source": [
    "with open('tcmbn_data/DC_preprocessed/split_1/train.pkl', 'rb') as f:\n",
    "    d = pickle.load(f)"
   ]
  },
  {
   "cell_type": "code",
   "execution_count": 5,
   "metadata": {},
   "outputs": [
    {
     "data": {
      "text/plain": [
       "[{'time_since_start': 17,\n",
       "  'time_since_last_event': 0,\n",
       "  'type_event': array([0, 0, 0, 0, 0, 0, 0, 0, 0, 0, 0, 0, 0, 0, 0, 0, 0, 0, 0, 0, 0, 0,\n",
       "         0, 0, 0, 0, 0, 0, 0, 0, 0, 0, 0, 0, 0, 0, 0, 0, 0, 0, 0, 0, 0, 0,\n",
       "         0, 0, 0, 0, 0, 0, 0, 0, 0, 0, 0, 0, 0, 0, 0, 0, 0, 0, 0, 0, 0, 0,\n",
       "         0, 0, 0, 0, 0, 0, 0, 0, 0, 0, 0, 0, 0, 0, 0, 0, 0, 0, 0, 0, 0, 0,\n",
       "         0, 0, 0, 0, 0, 0, 0, 0, 0, 0, 0, 0, 1, 0, 0, 0, 0, 0, 0, 0, 0, 0,\n",
       "         0, 0, 0, 0, 0, 0, 0, 0, 0, 0, 0, 0, 0, 0, 0, 0, 0, 0, 0, 0, 0, 0,\n",
       "         0, 0, 0, 0, 0, 0, 0, 0, 0, 0, 0, 0, 0, 0, 0, 0, 0, 0, 0, 0, 0, 0,\n",
       "         0, 0, 0, 0, 0, 0, 0, 0, 0, 0, 0, 0, 0, 0, 0, 0, 0, 0, 0, 0, 0, 0,\n",
       "         0, 0, 0, 0, 0, 0, 0, 0, 0, 0, 0, 0, 0, 0, 0, 0, 0, 0, 0, 0, 0, 0,\n",
       "         0, 0, 0, 0, 0, 0, 0, 0, 0, 0, 0, 0, 0, 0, 0, 0, 0, 0, 0])},\n",
       " {'time_since_start': 20,\n",
       "  'time_since_last_event': 3,\n",
       "  'type_event': array([0, 0, 0, 0, 0, 0, 0, 0, 0, 0, 0, 0, 0, 0, 0, 0, 0, 0, 0, 0, 0, 0,\n",
       "         0, 0, 0, 0, 0, 0, 0, 0, 0, 0, 0, 0, 0, 0, 0, 0, 0, 0, 0, 0, 0, 0,\n",
       "         0, 0, 0, 0, 0, 0, 0, 0, 0, 0, 0, 0, 0, 0, 0, 0, 0, 0, 0, 0, 0, 0,\n",
       "         0, 0, 0, 0, 0, 0, 0, 0, 0, 0, 0, 0, 0, 0, 0, 0, 0, 0, 0, 0, 0, 0,\n",
       "         0, 0, 0, 0, 0, 0, 0, 0, 0, 0, 0, 0, 0, 0, 0, 0, 0, 0, 0, 0, 0, 0,\n",
       "         0, 0, 0, 0, 0, 0, 0, 0, 0, 0, 0, 0, 0, 0, 0, 0, 0, 0, 0, 0, 0, 0,\n",
       "         0, 0, 0, 0, 0, 0, 0, 0, 0, 0, 0, 0, 0, 0, 0, 0, 0, 0, 0, 0, 0, 0,\n",
       "         0, 0, 0, 0, 0, 0, 0, 0, 0, 0, 0, 0, 0, 0, 0, 0, 0, 0, 0, 0, 0, 0,\n",
       "         0, 0, 0, 0, 0, 0, 0, 0, 0, 0, 0, 0, 0, 0, 0, 0, 0, 0, 0, 0, 0, 0,\n",
       "         0, 0, 1, 0, 0, 0, 0, 0, 0, 0, 0, 0, 0, 0, 0, 0, 0, 0, 0])}]"
      ]
     },
     "execution_count": 5,
     "metadata": {},
     "output_type": "execute_result"
    }
   ],
   "source": [
    "d['train'][0]"
   ]
  },
  {
   "cell_type": "markdown",
   "metadata": {},
   "source": [
    "## Data preparation for time information ablation study"
   ]
  },
  {
   "cell_type": "code",
   "execution_count": 6,
   "metadata": {},
   "outputs": [],
   "source": [
    "def remove_time(data: dict):\n",
    "    new_data = []\n",
    "    for user in data:\n",
    "        user = []\n",
    "        for i, basket in enumerate(user):\n",
    "            basket['time_since_start'] = i\n",
    "            basket['time_since_last_event'] = 0\n",
    "            user.append(basket)\n",
    "        new_data.append(user)\n",
    "        \n",
    "# def remove_all_time(data: dict):\n",
    "    "
   ]
  },
  {
   "cell_type": "code",
   "execution_count": 15,
   "metadata": {},
   "outputs": [],
   "source": [
    "name = 'mimic3_preprocessed'\n",
    "path = f'tcmbn_data/{name}/split_1'\n",
    "types_of_split = ['train', 'dev', 'test']\n",
    "new_path = f'tcmbn_data/{name}_wo_time/split_1'"
   ]
  },
  {
   "cell_type": "code",
   "execution_count": 16,
   "metadata": {},
   "outputs": [],
   "source": [
    "for split in types_of_split:\n",
    "    data = load_pkl(path, split)\n",
    "    data[split] = remove_time(data[split])\n",
    "    save_pkl(data, new_path, split)\n",
    "    "
   ]
  },
  {
   "cell_type": "code",
   "execution_count": null,
   "metadata": {},
   "outputs": [],
   "source": []
  }
 ],
 "metadata": {
  "kernelspec": {
   "display_name": "Python 3",
   "language": "python",
   "name": "python3"
  },
  "language_info": {
   "codemirror_mode": {
    "name": "ipython",
    "version": 3
   },
   "file_extension": ".py",
   "mimetype": "text/x-python",
   "name": "python",
   "nbconvert_exporter": "python",
   "pygments_lexer": "ipython3",
   "version": "3.11.7"
  }
 },
 "nbformat": 4,
 "nbformat_minor": 2
}
